{
 "cells": [
  {
   "cell_type": "code",
   "execution_count": 81,
   "metadata": {},
   "outputs": [],
   "source": [
    "import pandas as pd\n",
    "import numpy as np\n",
    "import matplotlib.pyplot as plt"
   ]
  },
  {
   "cell_type": "code",
   "execution_count": 82,
   "metadata": {},
   "outputs": [
    {
     "name": "stderr",
     "output_type": "stream",
     "text": [
      "C:\\Users\\User\\Anaconda3\\lib\\site-packages\\IPython\\core\\interactiveshell.py:3326: DtypeWarning: Columns (6) have mixed types.Specify dtype option on import or set low_memory=False.\n",
      "  exec(code_obj, self.user_global_ns, self.user_ns)\n"
     ]
    },
    {
     "data": {
      "text/html": [
       "<div>\n",
       "<style scoped>\n",
       "    .dataframe tbody tr th:only-of-type {\n",
       "        vertical-align: middle;\n",
       "    }\n",
       "\n",
       "    .dataframe tbody tr th {\n",
       "        vertical-align: top;\n",
       "    }\n",
       "\n",
       "    .dataframe thead th {\n",
       "        text-align: right;\n",
       "    }\n",
       "</style>\n",
       "<table border=\"1\" class=\"dataframe\">\n",
       "  <thead>\n",
       "    <tr style=\"text-align: right;\">\n",
       "      <th></th>\n",
       "      <th>2020</th>\n",
       "      <th>6</th>\n",
       "      <th>18</th>\n",
       "      <th>14</th>\n",
       "      <th>30</th>\n",
       "      <th>33</th>\n",
       "      <th>qCBrs9¥ R! Â¤cäÍFóInitializing.... Please Wait!</th>\n",
       "      <th>Unnamed: 7</th>\n",
       "      <th>Unnamed: 8</th>\n",
       "      <th>Unnamed: 9</th>\n",
       "      <th>Unnamed: 10</th>\n",
       "      <th>Unnamed: 11</th>\n",
       "    </tr>\n",
       "  </thead>\n",
       "  <tbody>\n",
       "    <tr>\n",
       "      <th>0</th>\n",
       "      <td>2020.0</td>\n",
       "      <td>6.0</td>\n",
       "      <td>18</td>\n",
       "      <td>14</td>\n",
       "      <td>30.0</td>\n",
       "      <td>43.0</td>\n",
       "      <td>201.0</td>\n",
       "      <td>25.0</td>\n",
       "      <td>29.0</td>\n",
       "      <td>95.00</td>\n",
       "      <td>27.19</td>\n",
       "      <td>4.39</td>\n",
       "    </tr>\n",
       "    <tr>\n",
       "      <th>1</th>\n",
       "      <td>2020.0</td>\n",
       "      <td>6.0</td>\n",
       "      <td>18</td>\n",
       "      <td>14</td>\n",
       "      <td>30.0</td>\n",
       "      <td>48.0</td>\n",
       "      <td>201.0</td>\n",
       "      <td>25.0</td>\n",
       "      <td>29.0</td>\n",
       "      <td>95.00</td>\n",
       "      <td>27.19</td>\n",
       "      <td>4.38</td>\n",
       "    </tr>\n",
       "    <tr>\n",
       "      <th>2</th>\n",
       "      <td>2020.0</td>\n",
       "      <td>6.0</td>\n",
       "      <td>18</td>\n",
       "      <td>14</td>\n",
       "      <td>31.0</td>\n",
       "      <td>3.0</td>\n",
       "      <td>201.0</td>\n",
       "      <td>25.0</td>\n",
       "      <td>29.0</td>\n",
       "      <td>95.00</td>\n",
       "      <td>27.19</td>\n",
       "      <td>4.38</td>\n",
       "    </tr>\n",
       "    <tr>\n",
       "      <th>3</th>\n",
       "      <td>2020.0</td>\n",
       "      <td>6.0</td>\n",
       "      <td>18</td>\n",
       "      <td>14</td>\n",
       "      <td>31.0</td>\n",
       "      <td>8.0</td>\n",
       "      <td>201.0</td>\n",
       "      <td>25.0</td>\n",
       "      <td>29.0</td>\n",
       "      <td>95.00</td>\n",
       "      <td>27.19</td>\n",
       "      <td>4.41</td>\n",
       "    </tr>\n",
       "    <tr>\n",
       "      <th>4</th>\n",
       "      <td>2020.0</td>\n",
       "      <td>6.0</td>\n",
       "      <td>18</td>\n",
       "      <td>14</td>\n",
       "      <td>31.0</td>\n",
       "      <td>13.0</td>\n",
       "      <td>201.0</td>\n",
       "      <td>25.0</td>\n",
       "      <td>29.0</td>\n",
       "      <td>95.00</td>\n",
       "      <td>27.25</td>\n",
       "      <td>4.41</td>\n",
       "    </tr>\n",
       "    <tr>\n",
       "      <th>...</th>\n",
       "      <td>...</td>\n",
       "      <td>...</td>\n",
       "      <td>...</td>\n",
       "      <td>...</td>\n",
       "      <td>...</td>\n",
       "      <td>...</td>\n",
       "      <td>...</td>\n",
       "      <td>...</td>\n",
       "      <td>...</td>\n",
       "      <td>...</td>\n",
       "      <td>...</td>\n",
       "      <td>...</td>\n",
       "    </tr>\n",
       "    <tr>\n",
       "      <th>811941</th>\n",
       "      <td>2020.0</td>\n",
       "      <td>10.0</td>\n",
       "      <td>19</td>\n",
       "      <td>8</td>\n",
       "      <td>24.0</td>\n",
       "      <td>4.0</td>\n",
       "      <td>201.0</td>\n",
       "      <td>-165.0</td>\n",
       "      <td>25.0</td>\n",
       "      <td>95.00</td>\n",
       "      <td>25.94</td>\n",
       "      <td>4.17</td>\n",
       "    </tr>\n",
       "    <tr>\n",
       "      <th>811942</th>\n",
       "      <td>2020.0</td>\n",
       "      <td>10.0</td>\n",
       "      <td>19</td>\n",
       "      <td>8</td>\n",
       "      <td>24.0</td>\n",
       "      <td>8.0</td>\n",
       "      <td>201.0</td>\n",
       "      <td>-167.0</td>\n",
       "      <td>25.0</td>\n",
       "      <td>95.00</td>\n",
       "      <td>25.94</td>\n",
       "      <td>4.19</td>\n",
       "    </tr>\n",
       "    <tr>\n",
       "      <th>811943</th>\n",
       "      <td>2020.0</td>\n",
       "      <td>10.0</td>\n",
       "      <td>19</td>\n",
       "      <td>8</td>\n",
       "      <td>24.0</td>\n",
       "      <td>13.0</td>\n",
       "      <td>-168.0</td>\n",
       "      <td>25.0</td>\n",
       "      <td>95.0</td>\n",
       "      <td>25.94</td>\n",
       "      <td>4.18</td>\n",
       "      <td>NaN</td>\n",
       "    </tr>\n",
       "    <tr>\n",
       "      <th>811944</th>\n",
       "      <td>2020.0</td>\n",
       "      <td>10.0</td>\n",
       "      <td>19</td>\n",
       "      <td>8</td>\n",
       "      <td>24.0</td>\n",
       "      <td>16.0</td>\n",
       "      <td>201.0</td>\n",
       "      <td>-169.0</td>\n",
       "      <td>25.0</td>\n",
       "      <td>95.00</td>\n",
       "      <td>25.94</td>\n",
       "      <td>4.17</td>\n",
       "    </tr>\n",
       "    <tr>\n",
       "      <th>811945</th>\n",
       "      <td>2020.0</td>\n",
       "      <td>10.0</td>\n",
       "      <td>19</td>\n",
       "      <td>8</td>\n",
       "      <td>24.0</td>\n",
       "      <td>20.0</td>\n",
       "      <td>201.0</td>\n",
       "      <td>-169.0</td>\n",
       "      <td>25.0</td>\n",
       "      <td>95.00</td>\n",
       "      <td>25.94</td>\n",
       "      <td>4.17</td>\n",
       "    </tr>\n",
       "  </tbody>\n",
       "</table>\n",
       "<p>811946 rows × 12 columns</p>\n",
       "</div>"
      ],
      "text/plain": [
       "          2020     6  18  14    30    33  \\\n",
       "0       2020.0   6.0  18  14  30.0  43.0   \n",
       "1       2020.0   6.0  18  14  30.0  48.0   \n",
       "2       2020.0   6.0  18  14  31.0   3.0   \n",
       "3       2020.0   6.0  18  14  31.0   8.0   \n",
       "4       2020.0   6.0  18  14  31.0  13.0   \n",
       "...        ...   ...  ..  ..   ...   ...   \n",
       "811941  2020.0  10.0  19   8  24.0   4.0   \n",
       "811942  2020.0  10.0  19   8  24.0   8.0   \n",
       "811943  2020.0  10.0  19   8  24.0  13.0   \n",
       "811944  2020.0  10.0  19   8  24.0  16.0   \n",
       "811945  2020.0  10.0  19   8  24.0  20.0   \n",
       "\n",
       "       qCBrs9¥ R! Â¤cäÍFóInitializing.... Please Wait!  Unnamed: 7  \\\n",
       "0                                                   201.0        25.0   \n",
       "1                                                   201.0        25.0   \n",
       "2                                                   201.0        25.0   \n",
       "3                                                   201.0        25.0   \n",
       "4                                                   201.0        25.0   \n",
       "...                                                   ...         ...   \n",
       "811941                                              201.0      -165.0   \n",
       "811942                                              201.0      -167.0   \n",
       "811943                                             -168.0        25.0   \n",
       "811944                                              201.0      -169.0   \n",
       "811945                                              201.0      -169.0   \n",
       "\n",
       "        Unnamed: 8  Unnamed: 9  Unnamed: 10  Unnamed: 11  \n",
       "0             29.0       95.00        27.19         4.39  \n",
       "1             29.0       95.00        27.19         4.38  \n",
       "2             29.0       95.00        27.19         4.38  \n",
       "3             29.0       95.00        27.19         4.41  \n",
       "4             29.0       95.00        27.25         4.41  \n",
       "...            ...         ...          ...          ...  \n",
       "811941        25.0       95.00        25.94         4.17  \n",
       "811942        25.0       95.00        25.94         4.19  \n",
       "811943        95.0       25.94         4.18          NaN  \n",
       "811944        25.0       95.00        25.94         4.17  \n",
       "811945        25.0       95.00        25.94         4.17  \n",
       "\n",
       "[811946 rows x 12 columns]"
      ]
     },
     "execution_count": 82,
     "metadata": {},
     "output_type": "execute_result"
    }
   ],
   "source": [
    "fishdata = pd.read_csv(\"fishdata.csv\",encoding= 'unicode_escape')\n",
    "fishdata"
   ]
  },
  {
   "cell_type": "code",
   "execution_count": 83,
   "metadata": {},
   "outputs": [
    {
     "data": {
      "text/plain": [
       "Index(['2020', '6', '18', '14', '30', '33',\n",
       "       'qCBrs9¥ R! Â¤cäÍFóInitializing.... Please Wait!', 'Unnamed: 7',\n",
       "       'Unnamed: 8', 'Unnamed: 9', 'Unnamed: 10', 'Unnamed: 11'],\n",
       "      dtype='object')"
      ]
     },
     "execution_count": 83,
     "metadata": {},
     "output_type": "execute_result"
    }
   ],
   "source": [
    "fishdata.columns"
   ]
  },
  {
   "cell_type": "code",
   "execution_count": 84,
   "metadata": {},
   "outputs": [],
   "source": [
    "fishdata.rename(columns={'2020':'Year', '6':'Month', '18':'Day', '14':'Hour', '30':'Minute', '33':'Second',\n",
    "       'qCBrs9¥ R! Â¤cäÍFóInitializing.... Please Wait!':'Carbonmonoxide', 'Unnamed: 7':'PM2.5',\n",
    "       'Unnamed: 8':'External_Temp', 'Unnamed: 9':'Humidity', 'Unnamed: 10':'Internal_temp', 'Unnamed: 11':'Ignore'\n",
    "},inplace = True)\n"
   ]
  },
  {
   "cell_type": "code",
   "execution_count": 85,
   "metadata": {},
   "outputs": [
    {
     "data": {
      "text/plain": [
       "Index(['Year', 'Month', 'Day', 'Hour', 'Minute', 'Second', 'Carbonmonoxide',\n",
       "       'PM2.5', 'External_Temp', 'Humidity', 'Internal_temp', 'Ignore'],\n",
       "      dtype='object')"
      ]
     },
     "execution_count": 85,
     "metadata": {},
     "output_type": "execute_result"
    }
   ],
   "source": [
    "fishdata.columns"
   ]
  },
  {
   "cell_type": "code",
   "execution_count": 86,
   "metadata": {},
   "outputs": [
    {
     "data": {
      "text/plain": [
       "Year                 0\n",
       "Month                0\n",
       "Day                  0\n",
       "Hour                 0\n",
       "Minute               0\n",
       "Second               0\n",
       "Carbonmonoxide    1748\n",
       "PM2.5               74\n",
       "External_Temp       95\n",
       "Humidity           103\n",
       "Internal_temp      103\n",
       "Ignore            4538\n",
       "dtype: int64"
      ]
     },
     "execution_count": 86,
     "metadata": {},
     "output_type": "execute_result"
    }
   ],
   "source": [
    "fishdata.isnull().sum()"
   ]
  },
  {
   "cell_type": "code",
   "execution_count": 87,
   "metadata": {},
   "outputs": [],
   "source": [
    "fishdata.drop(columns=['Ignore'],inplace=True)"
   ]
  },
  {
   "cell_type": "code",
   "execution_count": 88,
   "metadata": {},
   "outputs": [
    {
     "data": {
      "text/plain": [
       "Year                 0\n",
       "Month                0\n",
       "Day                  0\n",
       "Hour                 0\n",
       "Minute               0\n",
       "Second               0\n",
       "Carbonmonoxide    1748\n",
       "PM2.5               74\n",
       "External_Temp       95\n",
       "Humidity           103\n",
       "Internal_temp      103\n",
       "dtype: int64"
      ]
     },
     "execution_count": 88,
     "metadata": {},
     "output_type": "execute_result"
    }
   ],
   "source": [
    "fishdata.isnull().sum()"
   ]
  },
  {
   "cell_type": "code",
   "execution_count": 89,
   "metadata": {},
   "outputs": [
    {
     "name": "stdout",
     "output_type": "stream",
     "text": [
      "<class 'pandas.core.frame.DataFrame'>\n",
      "RangeIndex: 811946 entries, 0 to 811945\n",
      "Data columns (total 11 columns):\n",
      " #   Column          Non-Null Count   Dtype  \n",
      "---  ------          --------------   -----  \n",
      " 0   Year            811946 non-null  float64\n",
      " 1   Month           811946 non-null  float64\n",
      " 2   Day             811946 non-null  int64  \n",
      " 3   Hour            811946 non-null  int64  \n",
      " 4   Minute          811946 non-null  float64\n",
      " 5   Second          811946 non-null  float64\n",
      " 6   Carbonmonoxide  810198 non-null  object \n",
      " 7   PM2.5           811872 non-null  float64\n",
      " 8   External_Temp   811851 non-null  float64\n",
      " 9   Humidity        811843 non-null  float64\n",
      " 10  Internal_temp   811843 non-null  float64\n",
      "dtypes: float64(8), int64(2), object(1)\n",
      "memory usage: 68.1+ MB\n"
     ]
    }
   ],
   "source": [
    "fishdata.info()"
   ]
  },
  {
   "cell_type": "code",
   "execution_count": 90,
   "metadata": {},
   "outputs": [],
   "source": [
    "fishdata['Carbonmonoxide'] = fishdata['Carbonmonoxide'].apply(pd.to_numeric, errors='coerce')"
   ]
  },
  {
   "cell_type": "code",
   "execution_count": 91,
   "metadata": {},
   "outputs": [
    {
     "name": "stdout",
     "output_type": "stream",
     "text": [
      "<class 'pandas.core.frame.DataFrame'>\n",
      "RangeIndex: 811946 entries, 0 to 811945\n",
      "Data columns (total 11 columns):\n",
      " #   Column          Non-Null Count   Dtype  \n",
      "---  ------          --------------   -----  \n",
      " 0   Year            811946 non-null  float64\n",
      " 1   Month           811946 non-null  float64\n",
      " 2   Day             811946 non-null  int64  \n",
      " 3   Hour            811946 non-null  int64  \n",
      " 4   Minute          811946 non-null  float64\n",
      " 5   Second          811946 non-null  float64\n",
      " 6   Carbonmonoxide  810195 non-null  float64\n",
      " 7   PM2.5           811872 non-null  float64\n",
      " 8   External_Temp   811851 non-null  float64\n",
      " 9   Humidity        811843 non-null  float64\n",
      " 10  Internal_temp   811843 non-null  float64\n",
      "dtypes: float64(9), int64(2)\n",
      "memory usage: 68.1 MB\n"
     ]
    }
   ],
   "source": [
    "fishdata.info()"
   ]
  },
  {
   "cell_type": "code",
   "execution_count": null,
   "metadata": {},
   "outputs": [],
   "source": []
  },
  {
   "cell_type": "code",
   "execution_count": 92,
   "metadata": {},
   "outputs": [
    {
     "data": {
      "text/plain": [
       "<matplotlib.axes._subplots.AxesSubplot at 0x1d2002b4988>"
      ]
     },
     "execution_count": 92,
     "metadata": {},
     "output_type": "execute_result"
    },
    {
     "data": {
      "image/png": "[encoded data removed]",
      "text/plain": [
       "<Figure size 360x360 with 1 Axes>"
      ]
     },
     "metadata": {
      "needs_background": "light"
     },
     "output_type": "display_data"
    }
   ],
   "source": [
    "fishdata.plot(y='Carbonmonoxide',use_index=True, figsize=(5,5))"
   ]
  },
  {
   "cell_type": "code",
   "execution_count": 93,
   "metadata": {},
   "outputs": [
    {
     "data": {
      "text/plain": [
       "Year                 0\n",
       "Month                0\n",
       "Day                  0\n",
       "Hour                 0\n",
       "Minute               0\n",
       "Second               0\n",
       "Carbonmonoxide    1751\n",
       "PM2.5               74\n",
       "External_Temp       95\n",
       "Humidity           103\n",
       "Internal_temp      103\n",
       "dtype: int64"
      ]
     },
     "execution_count": 93,
     "metadata": {},
     "output_type": "execute_result"
    }
   ],
   "source": [
    "fishdata.isnull().sum()"
   ]
  },
  {
   "cell_type": "code",
   "execution_count": 94,
   "metadata": {},
   "outputs": [],
   "source": [
    "df1 = fishdata.copy()\n",
    "df1 = df1.fillna(fishdata.mean())"
   ]
  },
  {
   "cell_type": "code",
   "execution_count": 95,
   "metadata": {},
   "outputs": [
    {
     "data": {
      "text/plain": [
       "<matplotlib.axes._subplots.AxesSubplot at 0x1d2002e4148>"
      ]
     },
     "execution_count": 95,
     "metadata": {},
     "output_type": "execute_result"
    },
    {
     "data": {
      "image/png": "[encoded data removed]",
      "text/plain": [
       "<Figure size 360x360 with 1 Axes>"
      ]
     },
     "metadata": {
      "needs_background": "light"
     },
     "output_type": "display_data"
    }
   ],
   "source": [
    "df1.plot(y='Carbonmonoxide',use_index=True, figsize=(5,5))"
   ]
  },
  {
   "cell_type": "code",
   "execution_count": 96,
   "metadata": {},
   "outputs": [
    {
     "data": {
      "text/plain": [
       "Year              0\n",
       "Month             0\n",
       "Day               0\n",
       "Hour              0\n",
       "Minute            0\n",
       "Second            0\n",
       "Carbonmonoxide    0\n",
       "PM2.5             0\n",
       "External_Temp     0\n",
       "Humidity          0\n",
       "Internal_temp     0\n",
       "dtype: int64"
      ]
     },
     "execution_count": 96,
     "metadata": {},
     "output_type": "execute_result"
    }
   ],
   "source": [
    "df1.isnull().sum()"
   ]
  },
  {
   "cell_type": "code",
   "execution_count": 98,
   "metadata": {},
   "outputs": [],
   "source": [
    "df2 = fishdata.copy()\n",
    "df2.dropna(inplace=True)"
   ]
  },
  {
   "cell_type": "code",
   "execution_count": 99,
   "metadata": {},
   "outputs": [
    {
     "data": {
      "text/plain": [
       "<matplotlib.axes._subplots.AxesSubplot at 0x1d20036b088>"
      ]
     },
     "execution_count": 99,
     "metadata": {},
     "output_type": "execute_result"
    },
    {
     "data": {
      "image/png": "[encoded data removed]",
      "text/plain": [
       "<Figure size 360x360 with 1 Axes>"
      ]
     },
     "metadata": {
      "needs_background": "light"
     },
     "output_type": "display_data"
    }
   ],
   "source": [
    "df2.plot(y='Carbonmonoxide',use_index=True, figsize=(5,5))"
   ]
  },
  {
   "cell_type": "code",
   "execution_count": 100,
   "metadata": {},
   "outputs": [
    {
     "data": {
      "text/plain": [
       "Year              0\n",
       "Month             0\n",
       "Day               0\n",
       "Hour              0\n",
       "Minute            0\n",
       "Second            0\n",
       "Carbonmonoxide    0\n",
       "PM2.5             0\n",
       "External_Temp     0\n",
       "Humidity          0\n",
       "Internal_temp     0\n",
       "dtype: int64"
      ]
     },
     "execution_count": 100,
     "metadata": {},
     "output_type": "execute_result"
    }
   ],
   "source": [
    "df2.isnull().sum()"
   ]
  },
  {
   "cell_type": "code",
   "execution_count": 101,
   "metadata": {},
   "outputs": [],
   "source": [
    "df3 = fishdata.copy()\n",
    "df3 = df3.interpolate(method='nearest')"
   ]
  },
  {
   "cell_type": "code",
   "execution_count": 102,
   "metadata": {},
   "outputs": [
    {
     "data": {
      "text/plain": [
       "<matplotlib.axes._subplots.AxesSubplot at 0x1d2003f1608>"
      ]
     },
     "execution_count": 102,
     "metadata": {},
     "output_type": "execute_result"
    },
    {
     "data": {
      "image/png": "[encoded data removed]",
      "text/plain": [
       "<Figure size 360x360 with 1 Axes>"
      ]
     },
     "metadata": {
      "needs_background": "light"
     },
     "output_type": "display_data"
    }
   ],
   "source": [
    "df3.plot(y='Carbonmonoxide',use_index=True, figsize=(5,5))"
   ]
  },
  {
   "cell_type": "code",
   "execution_count": 103,
   "metadata": {},
   "outputs": [
    {
     "data": {
      "text/plain": [
       "Year              0\n",
       "Month             0\n",
       "Day               0\n",
       "Hour              0\n",
       "Minute            0\n",
       "Second            0\n",
       "Carbonmonoxide    0\n",
       "PM2.5             0\n",
       "External_Temp     0\n",
       "Humidity          0\n",
       "Internal_temp     0\n",
       "dtype: int64"
      ]
     },
     "execution_count": 103,
     "metadata": {},
     "output_type": "execute_result"
    }
   ],
   "source": [
    "df3.isnull().sum()"
   ]
  },
  {
   "cell_type": "code",
   "execution_count": null,
   "metadata": {},
   "outputs": [],
   "source": []
  }
 ],
 "metadata": {
  "kernelspec": {
   "display_name": "Python 3",
   "language": "python",
   "name": "python3"
  },
  "language_info": {
   "codemirror_mode": {
    "name": "ipython",
    "version": 3
   },
   "file_extension": ".py",
   "mimetype": "text/x-python",
   "name": "python",
   "nbconvert_exporter": "python",
   "pygments_lexer": "ipython3",
   "version": "3.7.4"
  }
 },
 "nbformat": 4,
 "nbformat_minor": 4
}
